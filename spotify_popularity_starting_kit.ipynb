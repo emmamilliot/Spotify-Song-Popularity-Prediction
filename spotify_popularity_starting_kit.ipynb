{
 "cells": [
  {
   "cell_type": "markdown",
   "metadata": {
    "id": "v0G4VEXBH-Ds"
   },
   "source": [
    "# Song popularity on Spotify"
   ]
  },
  {
   "cell_type": "markdown",
   "metadata": {
    "id": "akP-jsguNSsz"
   },
   "source": [
    "Data Camp | M2 Data Sciences 2021-2022\n",
    "\n",
    "Barrère Elise, Chouaieb Youssef, Cortés Carlos, Denis Matthieu, Haoula Narjes, Milliot Emma \n",
    "\n",
    "## Table of Content:\n",
    "* [Introduction](#intro)\n",
    "    * [Objective](#obj)\n",
    "    * [The data](#data)\n",
    "    * [Metrics](#metrics)\n",
    "\n",
    "<img src=\"spotify_image.jpg\" width=\"700\">\n",
    "\n",
    "## Introduction\n",
    "<a class=\"anchor\" id=\"intro\"></a>\n",
    "Music occupies a central place in the lives of many. It has been shown that the average American hears or listens to music up to 27 hours per week.  The online music streaming market has been booming since the 2010s and the major player in this market is Spotify. With 406 million monthly active users and 180 million premium subscribers in 2021 and more than 50 million songs available on the platform, the service is really popular. \n",
    "\n",
    "\n",
    "The Swedish entreprise is extremely keen on data, and it makes no doubt that its popularity over its opponents is largely due to its understanding of custumers and its almost-magic recommendation system. Without being a record label, Spotify is calling the shots on the popularity of the songs and the artists, because 30% of its users listen to the personalized playlists generated automatically by the platform.\n",
    "\n",
    "What makes a song popular ? How can we describe songs ? How can we know what a user will like listening to? It seems that Spotify knows the answers to all these questions and is willing to share part of its knowledge with us. \n"
   ]
  },
  {
   "cell_type": "markdown",
   "metadata": {
    "id": "zukN9sxNSU0k"
   },
   "source": [
    "### Objective :\n",
    "<a class=\"anchor\" id=\"obj\"></a>\n",
    "\n",
    "Our objective here is to be able to predict the popularity of song based on its audio features. \n",
    "\n",
    "### The data\n",
    "<a class=\"anchor\" id=\"data\"></a>\n",
    "\n",
    "Spotify provides an API which allows users to get a multitude of informations regarding the tracks present on the platform. The dta used for this project was exclusively collected using this API. An example jupyter notebook is provided [here](https://github.com/e-barrere/Spotify-Song-Popularity-Prediction/blob/master/use_api_model.ipynb) to show the procedure employed.  \n",
    "\n",
    "The data is composed of factual and technical details about songs. Each song is indexed by a unique identifier, and several features are retrieved from it. These features are described here (technical descriptions are taken from [here](https://developer.spotify.com/documentation/web-api/reference/#/operations/get-several-audio-features))\n",
    "\n",
    "- **Release year/date**\n",
    "- **Artists** both referred by names and ids\n",
    "- **Song title** both referred by names and ids\n",
    "- **Genre** : all of the possible genres are listed on this [website](https://everynoise.com/everynoise1d.cgi?scope=mainstream%20only&vector=popularity)\n",
    "- **Danceability** : describes how suitable a track is for dancing based on a combination of musical elements including tempo, rhythm stability, beat strength, and overall regularity. A value of 0.0 is least danceable and 1.0 is most danceable.\n",
    "- **Energy** : Energy is a measure from 0.0 to 1.0 and represents a perceptual measure of intensity and activity\n",
    "- **Key** : The key the track is in. Integers map to pitches using standard Pitch Class notation.\n",
    "- **Loudness** : The overall loudness of a track in decibels (dB)\n",
    "- **Mode** : Mode indicates the modality (major or minor) of a track, the type of scale from which its melodic content is derived. Major is represented by 1 and minor is 0.\n",
    "- **Speechiness** : Speechiness detects the presence of spoken words in a track. The more exclusively speech-like the recording (e.g. talk show, audio book, poetry), the closer to 1.0 the attribute value\n",
    "- **Acousticness** : A confidence measure from 0.0 to 1.0 of whether the track is acoustic. 1.0 represents high confidence the track is acoustic.\n",
    "- **Instrumentalness** : Predicts whether a track contains no vocals. Values above 0.5 are intended to represent instrumental tracks, but confidence is higher as the value approaches 1.0.\n",
    "- **Liveness** : Detects the presence of an audience in the recording.\n",
    "- **Valence** : A measure from 0.0 to 1.0 describing the musical positiveness conveyed by a track.\n",
    "- **Tempo** : The overall estimated tempo of a track in beats per minute (BPM). \n",
    "- **Duration_ms** : The duration of the track in milliseconds.\n",
    "- **Time_signature** : An estimated time signature. The time signature (meter) is a notational convention to specify how many beats are in each bar (or measure). \n",
    "\n",
    "The aim of this challenge is to predict the popularity of a song. Let's dive into the popularity metric. \n",
    "\n",
    "The popularity is a score (integer) from 0 to 100. It is also computed by Spotify. It is a combination of recent stream counts and other factors such as the number of playlists the track is in, save rate, skip rate, and share rate. The popularity is measured at a certain time $t$, and in the case of this challenge it refers to the popularity of songs in March 2022.\n",
    "\n",
    "### Metrics\n",
    "<a class=\"anchor\" id=\"metrics\"></a>\n",
    "\n",
    "In the case of a regression, there are three scores that are used usually. They are the **Mean Squared Error (MSE)**, the **Root Mean Squared Error (RMSE)** and the **Mean Absolute Error (MAE)**. \n",
    "\n",
    "The MSE computes the average squared Euclidean distance between the data $y_i$ and the prediction $\\hat{y}_i$\n",
    "\n",
    "$$\n",
    "    MSE(y, \\hat{y}) = \\frac{1}{N}\\sum_{i=1}^N (y_i - \\hat{y}_i)^2\n",
    "$$\n",
    "\n",
    "The RMSE is the square root of the MSE. It has the advantage of being in the same unit as the predictions and the data.$\n",
    "\n",
    "$$\n",
    "    RMSE(y, \\hat{y}) = \\sqrt{ MSE(y, \\hat{y})} = \\sqrt{\\frac{1}{N}\\sum_{i=1}^N (y_i - \\hat{y}_i)^2}\n",
    "$$\n",
    "\n",
    "The MAE computes the average Manhattan distance between the data $y_i$ and the prediction $\\hat{y}_i$\n",
    "\n",
    "$$\n",
    "    MAE(y, \\hat{y}) = \\frac{1}{N}\\sum_{i=1}^N |y_i - \\hat{y}_i| \\enspace .\n",
    "$$\n",
    "\n",
    "The score used in the challenge is the **RMSE**."
   ]
  },
  {
   "cell_type": "code",
   "execution_count": null,
   "metadata": {},
   "outputs": [],
   "source": [
    " "
   ]
  }
 ],
 "metadata": {
  "colab": {
   "authorship_tag": "ABX9TyPEGIONp1txxW3SaH25j6sR",
   "collapsed_sections": [],
   "name": "spotify_popularity_starting_kit.ipynb",
   "provenance": []
  },
  "kernelspec": {
   "display_name": "Python 3 (ipykernel)",
   "language": "python",
   "name": "python3"
  },
  "language_info": {
   "codemirror_mode": {
    "name": "ipython",
    "version": 3
   },
   "file_extension": ".py",
   "mimetype": "text/x-python",
   "name": "python",
   "nbconvert_exporter": "python",
   "pygments_lexer": "ipython3",
   "version": "3.9.7"
  }
 },
 "nbformat": 4,
 "nbformat_minor": 1
}
